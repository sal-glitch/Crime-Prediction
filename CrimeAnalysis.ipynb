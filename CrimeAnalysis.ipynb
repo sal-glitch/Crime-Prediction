{
  "nbformat": 4,
  "nbformat_minor": 0,
  "metadata": {
    "colab": {
      "name": "CrimeAnalysis.ipynb",
      "provenance": [],
      "collapsed_sections": []
    },
    "kernelspec": {
      "name": "python3",
      "display_name": "Python 3"
    }
  },
  "cells": [
    {
      "cell_type": "code",
      "metadata": {
        "id": "bZicN9svsxz7"
      },
      "source": [
        "import numpy as np\r\n",
        "import pandas as pd\r\n",
        "import matplotlib.pyplot as plt\r\n",
        "import scipy\r\n",
        "import math\r\n",
        "import io"
      ],
      "execution_count": 3,
      "outputs": []
    },
    {
      "cell_type": "code",
      "metadata": {
        "id": "3QqLkEc6QLd1",
        "colab": {
          "base_uri": "https://localhost:8080/"
        },
        "outputId": "270b5bcc-d337-4ba4-ba98-faa7e2235d1f"
      },
      "source": [
        "df = pd.read_csv(\"criminal_train.csv\")\r\n",
        "print(df)"
      ],
      "execution_count": 6,
      "outputs": [
        {
          "output_type": "stream",
          "text": [
            "       IFATHER  NRCH17_2  IRHHSIZ2  ...  VESTR  VEREP  Criminal\n",
            "0            4         1         2  ...  40035      2         0\n",
            "1            4         0         1  ...  40003      1         0\n",
            "2            4         2         3  ...  40038      1         0\n",
            "3            4         0         4  ...  40020      2         0\n",
            "4            1         0         4  ...  40007      1         0\n",
            "...        ...       ...       ...  ...    ...    ...       ...\n",
            "45713        4         2         4  ...  40031      2         0\n",
            "45714        4         0         4  ...  40045      2         0\n",
            "45715        1         0         3  ...  40023      2         0\n",
            "45716        4         0         4  ...  40015      2         0\n",
            "45717        4         1         3  ...  40034      2         0\n",
            "\n",
            "[45718 rows x 71 columns]\n"
          ],
          "name": "stdout"
        }
      ]
    },
    {
      "cell_type": "code",
      "metadata": {
        "colab": {
          "base_uri": "https://localhost:8080/"
        },
        "id": "ga8a_7etjDVJ",
        "outputId": "039b860d-2523-43f5-c53f-ccdd89e8650e"
      },
      "source": [
        "z=np.zeros((45718,71))\r\n",
        "z[:]=df[:]\r\n",
        "train=df.iloc[5000:,:].values\r\n",
        "test=df.iloc[:5000,:].values\r\n",
        "dtrain=np.zeros((40718,71))\r\n",
        "dtrain[:]=train[:]\r\n",
        "print(dtrain)\r\n",
        "dtest=np.zeros((5000,71))\r\n",
        "dtest[:]=test[:]\r\n",
        "print(dtest)"
      ],
      "execution_count": 11,
      "outputs": [
        {
          "output_type": "stream",
          "text": [
            "[[2.0000e+00 0.0000e+00 3.0000e+00 ... 4.0038e+04 2.0000e+00 0.0000e+00]\n",
            " [4.0000e+00 2.0000e+00 4.0000e+00 ... 4.0015e+04 1.0000e+00 0.0000e+00]\n",
            " [4.0000e+00 0.0000e+00 2.0000e+00 ... 4.0030e+04 2.0000e+00 0.0000e+00]\n",
            " ...\n",
            " [1.0000e+00 0.0000e+00 3.0000e+00 ... 4.0023e+04 2.0000e+00 0.0000e+00]\n",
            " [4.0000e+00 0.0000e+00 4.0000e+00 ... 4.0015e+04 2.0000e+00 0.0000e+00]\n",
            " [4.0000e+00 1.0000e+00 3.0000e+00 ... 4.0034e+04 2.0000e+00 0.0000e+00]]\n",
            "[[4.0000e+00 1.0000e+00 2.0000e+00 ... 4.0035e+04 2.0000e+00 0.0000e+00]\n",
            " [4.0000e+00 0.0000e+00 1.0000e+00 ... 4.0003e+04 1.0000e+00 0.0000e+00]\n",
            " [4.0000e+00 2.0000e+00 3.0000e+00 ... 4.0038e+04 1.0000e+00 0.0000e+00]\n",
            " ...\n",
            " [4.0000e+00 0.0000e+00 2.0000e+00 ... 4.0022e+04 2.0000e+00 0.0000e+00]\n",
            " [4.0000e+00 0.0000e+00 2.0000e+00 ... 4.0017e+04 1.0000e+00 0.0000e+00]\n",
            " [2.0000e+00 0.0000e+00 3.0000e+00 ... 4.0010e+04 1.0000e+00 0.0000e+00]]\n"
          ],
          "name": "stdout"
        }
      ]
    },
    {
      "cell_type": "code",
      "metadata": {
        "colab": {
          "base_uri": "https://localhost:8080/"
        },
        "id": "iKt6iO-5kUnD",
        "outputId": "b77dce86-ade6-483d-82c0-055381094153"
      },
      "source": [
        "print(dtrain.shape)\r\n",
        "print(dtest.shape)"
      ],
      "execution_count": 12,
      "outputs": [
        {
          "output_type": "stream",
          "text": [
            "(40718, 71)\n",
            "(5000, 71)\n"
          ],
          "name": "stdout"
        }
      ]
    },
    {
      "cell_type": "code",
      "metadata": {
        "colab": {
          "base_uri": "https://localhost:8080/"
        },
        "id": "muCXN7gUmvkF",
        "outputId": "5a419380-9e7c-4c04-9249-888f8d379689"
      },
      "source": [
        "y_train=np.zeros((40718,1))\r\n",
        "y_train[:]=dtrain[:,[70]]\r\n",
        "y_test=np.zeros((5000,1))\r\n",
        "y_test[:]=dtest[:,[70]]\r\n",
        "print(y_test)\r\n",
        "print(y_train)"
      ],
      "execution_count": 13,
      "outputs": [
        {
          "output_type": "stream",
          "text": [
            "[[0.]\n",
            " [0.]\n",
            " [0.]\n",
            " ...\n",
            " [0.]\n",
            " [0.]\n",
            " [0.]]\n",
            "[[0.]\n",
            " [0.]\n",
            " [0.]\n",
            " ...\n",
            " [0.]\n",
            " [0.]\n",
            " [0.]]\n"
          ],
          "name": "stdout"
        }
      ]
    },
    {
      "cell_type": "code",
      "metadata": {
        "id": "0337x4lbuejI"
      },
      "source": [
        "x_train=np.zeros((5000,70))\r\n",
        "x_test=np.zeros((40718,70))\r\n",
        "x_test= np.delete(dtest,70,axis=1)\r\n",
        "x_train=np.delete(dtrain,70,axis=1)"
      ],
      "execution_count": 14,
      "outputs": []
    },
    {
      "cell_type": "code",
      "metadata": {
        "colab": {
          "base_uri": "https://localhost:8080/"
        },
        "id": "kvOIYE0vvHxH",
        "outputId": "4a484903-d7a5-486c-fbe6-032c467ccace"
      },
      "source": [
        "print(x_train)\r\n",
        "print(x_train.shape)\r\n",
        "print(x_test)\r\n",
        "print(x_test.shape)"
      ],
      "execution_count": 16,
      "outputs": [
        {
          "output_type": "stream",
          "text": [
            "[[2.00000000e+00 0.00000000e+00 3.00000000e+00 ... 2.32875785e+02\n",
            "  4.00380000e+04 2.00000000e+00]\n",
            " [4.00000000e+00 2.00000000e+00 4.00000000e+00 ... 7.35768196e+03\n",
            "  4.00150000e+04 1.00000000e+00]\n",
            " [4.00000000e+00 0.00000000e+00 2.00000000e+00 ... 5.32077248e+03\n",
            "  4.00300000e+04 2.00000000e+00]\n",
            " ...\n",
            " [1.00000000e+00 0.00000000e+00 3.00000000e+00 ... 5.12671234e+02\n",
            "  4.00230000e+04 2.00000000e+00]\n",
            " [4.00000000e+00 0.00000000e+00 4.00000000e+00 ... 4.62459704e+02\n",
            "  4.00150000e+04 2.00000000e+00]\n",
            " [4.00000000e+00 1.00000000e+00 3.00000000e+00 ... 1.52381087e+03\n",
            "  4.00340000e+04 2.00000000e+00]]\n",
            "(40718, 70)\n",
            "[[4.00000000e+00 1.00000000e+00 2.00000000e+00 ... 2.50987666e+03\n",
            "  4.00350000e+04 2.00000000e+00]\n",
            " [4.00000000e+00 0.00000000e+00 1.00000000e+00 ... 3.85796934e+03\n",
            "  4.00030000e+04 1.00000000e+00]\n",
            " [4.00000000e+00 2.00000000e+00 3.00000000e+00 ... 2.04709758e+03\n",
            "  4.00380000e+04 1.00000000e+00]\n",
            " ...\n",
            " [4.00000000e+00 0.00000000e+00 2.00000000e+00 ... 1.12758566e+04\n",
            "  4.00220000e+04 2.00000000e+00]\n",
            " [4.00000000e+00 0.00000000e+00 2.00000000e+00 ... 1.78414132e+03\n",
            "  4.00170000e+04 1.00000000e+00]\n",
            " [2.00000000e+00 0.00000000e+00 3.00000000e+00 ... 1.34965244e+03\n",
            "  4.00100000e+04 1.00000000e+00]]\n",
            "(5000, 70)\n"
          ],
          "name": "stdout"
        }
      ]
    },
    {
      "cell_type": "code",
      "metadata": {
        "id": "5Qseyvj0vLUK"
      },
      "source": [
        "x_trainf = np.zeros((70,40718))\r\n",
        "x_testf = np.zeros((70,5000))\r\n",
        "y_trainf = np.zeros((1,40718))\r\n",
        "y_testf = np.zeros((1,5000))\r\n",
        "\r\n",
        "x_trainf = np.transpose(x_train)\r\n",
        "x_testf = np.transpose(x_test)\r\n",
        "y_trainf = np.transpose(y_train)\r\n",
        "y_testf= np.transpose(y_test)"
      ],
      "execution_count": 19,
      "outputs": []
    },
    {
      "cell_type": "code",
      "metadata": {
        "colab": {
          "base_uri": "https://localhost:8080/"
        },
        "id": "e4MIwbtLvoJG",
        "outputId": "0d7a71ad-62b5-4fdd-94e8-065dc4f850b2"
      },
      "source": [
        "print(x_trainf[:][:])"
      ],
      "execution_count": 20,
      "outputs": [
        {
          "output_type": "stream",
          "text": [
            "[[2.00000000e+00 4.00000000e+00 4.00000000e+00 ... 1.00000000e+00\n",
            "  4.00000000e+00 4.00000000e+00]\n",
            " [0.00000000e+00 2.00000000e+00 0.00000000e+00 ... 0.00000000e+00\n",
            "  0.00000000e+00 1.00000000e+00]\n",
            " [3.00000000e+00 4.00000000e+00 2.00000000e+00 ... 3.00000000e+00\n",
            "  4.00000000e+00 3.00000000e+00]\n",
            " ...\n",
            " [2.32875785e+02 7.35768196e+03 5.32077248e+03 ... 5.12671234e+02\n",
            "  4.62459704e+02 1.52381087e+03]\n",
            " [4.00380000e+04 4.00150000e+04 4.00300000e+04 ... 4.00230000e+04\n",
            "  4.00150000e+04 4.00340000e+04]\n",
            " [2.00000000e+00 1.00000000e+00 2.00000000e+00 ... 2.00000000e+00\n",
            "  2.00000000e+00 2.00000000e+00]]\n"
          ],
          "name": "stdout"
        }
      ]
    },
    {
      "cell_type": "code",
      "metadata": {
        "colab": {
          "base_uri": "https://localhost:8080/"
        },
        "id": "YDaqa1pnvvyp",
        "outputId": "d9f9ee46-afd8-48ed-95ee-45476614f95b"
      },
      "source": [
        "mtrain=x_trainf.shape[1]\r\n",
        "print(mtrain)\r\n",
        "utrain=np.sum(x_trainf,axis=1,keepdims=True)/mtrain\r\n",
        "print(utrain)"
      ],
      "execution_count": 22,
      "outputs": [
        {
          "output_type": "stream",
          "text": [
            "40718\n",
            "[[3.35338180e+00]\n",
            " [4.73353308e-01]\n",
            " [3.42521735e+00]\n",
            " [1.00162090e+00]\n",
            " [2.08310821e+00]\n",
            " [1.00702392e+00]\n",
            " [1.16329387e+00]\n",
            " [1.01085515e+00]\n",
            " [9.73414706e+01]\n",
            " [7.07639373e+01]\n",
            " [2.35362739e+00]\n",
            " [2.61442114e+00]\n",
            " [2.20086939e+00]\n",
            " [2.02485387e+00]\n",
            " [3.95336215e+01]\n",
            " [8.61279041e+01]\n",
            " [1.28036741e+01]\n",
            " [9.23097893e+01]\n",
            " [8.93534555e+01]\n",
            " [9.13251633e+01]\n",
            " [9.71275112e+01]\n",
            " [9.71609116e+01]\n",
            " [9.71723316e+01]\n",
            " [9.71551402e+01]\n",
            " [9.71607888e+01]\n",
            " [1.77174714e+00]\n",
            " [1.01827202e+00]\n",
            " [1.91649885e+00]\n",
            " [1.00933248e+00]\n",
            " [1.96124564e+00]\n",
            " [1.00505919e+00]\n",
            " [1.38744536e+00]\n",
            " [1.01360578e+00]\n",
            " [8.58300260e+01]\n",
            " [7.88702785e+00]\n",
            " [9.79784616e+01]\n",
            " [9.79784616e+01]\n",
            " [1.94623999e+00]\n",
            " [1.10351687e+00]\n",
            " [1.01792819e+00]\n",
            " [1.85473255e+00]\n",
            " [1.73004568e+00]\n",
            " [1.13878383e+00]\n",
            " [1.83781129e+00]\n",
            " [1.01900879e+00]\n",
            " [1.93113611e+00]\n",
            " [1.01891056e+00]\n",
            " [1.80045680e+00]\n",
            " [1.00992190e+00]\n",
            " [1.97291124e+00]\n",
            " [1.01468638e+00]\n",
            " [1.96350508e+00]\n",
            " [1.01119898e+00]\n",
            " [9.40897146e+01]\n",
            " [8.52168574e+00]\n",
            " [2.57583870e+00]\n",
            " [4.74834226e+00]\n",
            " [1.06075937e+00]\n",
            " [1.19445945e+00]\n",
            " [1.76248833e+00]\n",
            " [2.33741834e+00]\n",
            " [2.21066850e+00]\n",
            " [2.22564959e+00]\n",
            " [1.64629893e+00]\n",
            " [1.76371629e+00]\n",
            " [1.97910015e+00]\n",
            " [1.97892824e+00]\n",
            " [4.68517114e+03]\n",
            " [4.00235263e+04]\n",
            " [1.49479346e+00]]\n"
          ],
          "name": "stdout"
        }
      ]
    },
    {
      "cell_type": "code",
      "metadata": {
        "id": "2AHUk_SVwTUF"
      },
      "source": [
        "trainx=x_trainf-utrain\r\n",
        "testx=x_testf-utrain\r\n",
        "n=(np.sum(np.square(trainx),axis=1,keepdims=True))/mtrain\r\n",
        "trainx=trainx/n\r\n",
        "testx=testx/n"
      ],
      "execution_count": 23,
      "outputs": []
    },
    {
      "cell_type": "code",
      "metadata": {
        "colab": {
          "base_uri": "https://localhost:8080/"
        },
        "id": "TMHDVoujwxli",
        "outputId": "39d30547-55fb-4d48-8e7f-f40339aef6cf"
      },
      "source": [
        "print(trainx.shape)\r\n",
        "print(testx.shape)\r\n",
        "print(trainx)\r\n",
        "print(testx)"
      ],
      "execution_count": 25,
      "outputs": [
        {
          "output_type": "stream",
          "text": [
            "(70, 40718)\n",
            "(70, 5000)\n",
            "[[-9.74341659e-01  4.65520561e-01  4.65520561e-01 ... -1.69427277e+00\n",
            "   4.65520561e-01  4.65520561e-01]\n",
            " [-6.03470629e-01  1.94629767e+00 -6.03470629e-01 ... -6.03470629e-01\n",
            "  -6.03470629e-01  6.71413519e-01]\n",
            " [-2.08341890e-01  2.81623749e-01 -6.98307529e-01 ... -2.08341890e-01\n",
            "   2.81623749e-01 -2.08341890e-01]\n",
            " ...\n",
            " [-1.36803566e-04  8.21169711e-05  1.95298207e-05 ... -1.28206424e-04\n",
            "  -1.29749250e-04 -9.71376163e-05]\n",
            " [ 1.83434521e-04 -1.08059843e-04  8.20451771e-05 ... -6.67049903e-06\n",
            "  -1.08059843e-04  1.32739849e-04]\n",
            " [ 2.01866538e+00 -1.97705757e+00  2.01866538e+00 ...  2.01866538e+00\n",
            "   2.01866538e+00  2.01866538e+00]]\n",
            "[[ 4.65520561e-01  4.65520561e-01  4.65520561e-01 ...  4.65520561e-01\n",
            "   4.65520561e-01 -9.74341659e-01]\n",
            " [ 6.71413519e-01 -6.03470629e-01  1.94629767e+00 ... -6.03470629e-01\n",
            "  -6.03470629e-01 -6.03470629e-01]\n",
            " [-6.98307529e-01 -1.18827317e+00 -2.08341890e-01 ... -6.98307529e-01\n",
            "  -6.98307529e-01 -2.08341890e-01]\n",
            " ...\n",
            " [-6.68392408e-05 -2.54170373e-05 -8.10588339e-05 ...  2.02508865e-04\n",
            "  -8.91385662e-05 -1.02488900e-04]\n",
            " [ 1.45413517e-04 -2.60143859e-04  1.83434521e-04 ... -1.93441670e-05\n",
            "  -8.27125072e-05 -1.71428183e-04]\n",
            " [ 2.01866538e+00 -1.97705757e+00 -1.97705757e+00 ...  2.01866538e+00\n",
            "  -1.97705757e+00 -1.97705757e+00]]\n"
          ],
          "name": "stdout"
        }
      ]
    },
    {
      "cell_type": "code",
      "metadata": {
        "id": "BHJqGdDTxJfR"
      },
      "source": [
        "def sigmoid(z):\r\n",
        "  s=1/ ( 1 + np.exp(-z))\r\n",
        "  return s"
      ],
      "execution_count": 26,
      "outputs": []
    },
    {
      "cell_type": "code",
      "metadata": {
        "id": "e6UNVoqoxY1p"
      },
      "source": [
        "def sigmoidderivative(z):\r\n",
        "  s=f*(1-f)\r\n",
        "  return s"
      ],
      "execution_count": 27,
      "outputs": []
    },
    {
      "cell_type": "code",
      "metadata": {
        "id": "t9kCpXOhxtjF"
      },
      "source": [
        "def tanh(z):\r\n",
        "  s=(np.exp(z)-np.exp(-z))/(np.exp(z)+np.exp(-z))\r\n",
        "  return s"
      ],
      "execution_count": 28,
      "outputs": []
    },
    {
      "cell_type": "code",
      "metadata": {
        "id": "mPIJuRnZx4SE"
      },
      "source": [
        "def tanhderivative(z):\r\n",
        "  s=1-np.square(z)\r\n",
        "  return s"
      ],
      "execution_count": 29,
      "outputs": []
    },
    {
      "cell_type": "code",
      "metadata": {
        "id": "QbsIehrOzf0m"
      },
      "source": [
        "def relu(z):\r\n",
        "  s=np.maximum(0,z)\r\n",
        "  return s"
      ],
      "execution_count": 30,
      "outputs": []
    },
    {
      "cell_type": "code",
      "metadata": {
        "id": "XeM6F68DzkpH"
      },
      "source": [
        "def reluderivative(z):\r\n",
        "  z[z<=0] = 0\r\n",
        "  z[z>0] = 1\r\n",
        "  return z"
      ],
      "execution_count": 31,
      "outputs": []
    },
    {
      "cell_type": "code",
      "metadata": {
        "id": "JaSRZYM1z9Qk"
      },
      "source": [
        "def initialize(l1):\r\n",
        "    \r\n",
        "    l = len(l1)\r\n",
        "    param = {}\r\n",
        "    np.random.seed(0)\r\n",
        "    for i in range(1,l-1):\r\n",
        "      param[\"W\"+str(i)]=np.random.randn(l1[i],l1[i-1]) * np.sqrt(2/l1[i-1]) \r\n",
        "      param[\"b\"+str(i)]=np.zeros((l1[i],1))\r\n",
        "    \r\n",
        "    param[\"W\"+str(l-1)]=np.random.randn(l1[l-1],l1[l-2]) * 0.001\r\n",
        "    param[\"b\"+str(l-1)]=np.zeros((l1[l-1],1)) \r\n",
        "   \r\n",
        "    \r\n",
        "    return param"
      ],
      "execution_count": 32,
      "outputs": []
    },
    {
      "cell_type": "code",
      "metadata": {
        "id": "6cFWR8oB0IrA"
      },
      "source": [
        "def initialize_adam(param,layer) :\r\n",
        "    \r\n",
        "    L = len(param) // 2\r\n",
        "    v = {}\r\n",
        "    s = {}\r\n",
        "    \r\n",
        "   \r\n",
        "    for l in range(L-1):\r\n",
        "   \r\n",
        "        v[\"dW\" + str(l+1)] = np.zeros(param['W' + str(l+1)].shape)\r\n",
        "        v[\"db\" + str(l+1)] = np.zeros(param['b' + str(l+1)].shape)\r\n",
        "        s[\"dW\" + str(l+1)] = np.zeros(param['W' + str(l+1)].shape)\r\n",
        "        s[\"db\" + str(l+1)] = np.zeros(param['b' + str(l+1)].shape)\r\n",
        "    \r\n",
        "    \r\n",
        "    return v, s"
      ],
      "execution_count": 33,
      "outputs": []
    },
    {
      "cell_type": "code",
      "metadata": {
        "id": "D7ddIiVu0MRs"
      },
      "source": [
        "def random_mini_batches(X, Y, mini_batch_size = 512):\r\n",
        "    \r\n",
        "               \r\n",
        "    m = X.shape[1]                  \r\n",
        "    mini_batches = []   \r\n",
        "    p = list(np.random.p(m))\r\n",
        "    newx = X[:, p]\r\n",
        "    newy = Y[:, p].reshape((1,m))\r\n",
        "    num_complete_minibatches = math.floor(m/mini_batch_size) \r\n",
        "    for k in range(0, num_complete_minibatches):\r\n",
        "        mx = newx[:, k*mini_batch_size : (k+1)*mini_batch_size]\r\n",
        "        mini_batch_Y = newy[:, k*mini_batch_size : (k+1)*mini_batch_size]\r\n",
        "      \r\n",
        "        mini_batch = (mx, my)\r\n",
        "        mini_batches.append(mini_batch)\r\n",
        "    \r\n",
        "    if m % mini_batch_size != 0:\r\n",
        "        \r\n",
        "        mx = newx[:, num_complete_minibatches*mini_batch_size:]\r\n",
        "        my = newy[:, num_complete_minibatches*mini_batch_size:]\r\n",
        "        \r\n",
        "        mini_batch = (mx, my)\r\n",
        "        mini_batches.append(mini_batch)\r\n",
        "    \r\n",
        "    return mini_batches"
      ],
      "execution_count": 34,
      "outputs": []
    },
    {
      "cell_type": "code",
      "metadata": {
        "id": "nCbUJ07F0UvS"
      },
      "source": [
        "\r\n",
        "def fwd_propagation(X,param,l1):\r\n",
        "  \r\n",
        "  l = len(l1)\r\n",
        "  f = {}\r\n",
        "  \r\n",
        "  f[\"Z\"+str(1)]=np.dot(param[\"W\"+str(1)],X)+param[\"b\"+str(1)]\r\n",
        "    \r\n",
        "  f[\"A\"+str(1)]=relu(f[\"Z\"+str(1)])\r\n",
        "  \r\n",
        "  for i in range(2,l-1):\r\n",
        "    f[\"Z\"+str(i)]=np.dot(param[\"W\"+str(i)],f[\"A\"+str(i-1)])+param[\"b\"+str(i)]\r\n",
        "    f[\"A\"+str(i)]=relu(f[\"Z\"+str(i)])\r\n",
        "   \r\n",
        "  f[\"Z\"+str(l-1)]=np.dot(param[\"W\"+str(l-1)],f[\"A\"+str(l-2)])+param[\"b\"+str(l-1)]\r\n",
        "  f[\"A\"+str(l-1)]=sigmoid(f[\"Z\"+str(l-1)])\r\n",
        "  \r\n",
        "  return f"
      ],
      "execution_count": 35,
      "outputs": []
    },
    {
      "cell_type": "code",
      "metadata": {
        "id": "ScE5aW6W0YAr"
      },
      "source": [
        "def fwd_propagation_drop(X,parameters,layer,keep_prob):\r\n",
        "  drop = {}\r\n",
        "  l = len(layer)\r\n",
        "  forward = {}\r\n",
        "  \r\n",
        "  forward[\"Z\"+str(1)]=np.dot(parameters[\"W\"+str(1)],X)+parameters[\"b\"+str(1)]\r\n",
        "    \r\n",
        "  forward[\"A\"+str(1)]=relu(forward[\"Z\"+str(1)])\r\n",
        "  drop[\"d\"+str(1)]=(np.random.rand(forward[\"A\"+str(1)].shape[0],forward[\"A\"+str(1)].shape[1])) < keep_prob[1]\r\n",
        "    \r\n",
        "  forward[\"A\"+str(1)] = np.multiply(forward[\"A\"+str(1)],drop[\"d\"+str(1)])\r\n",
        "  forward[\"A\"+str(1)] = forward[\"A\"+str(1)] / keep_prob[1]\r\n",
        "  \r\n",
        "  for i in range(2,l-1):\r\n",
        "    forward[\"Z\"+str(i)]=np.dot(parameters[\"W\"+str(i)],forward[\"A\"+str(i-1)])+parameters[\"b\"+str(i)]\r\n",
        "    \r\n",
        "    forward[\"A\"+str(i)]=relu(forward[\"Z\"+str(i)])\r\n",
        "    drop[\"d\"+str(i)]=(np.random.rand(forward[\"A\"+str(i)].shape[0],forward[\"A\"+str(i)].shape[1])) < keep_prob[i]\r\n",
        "    \r\n",
        "    forward[\"A\"+str(i)] = np.multiply(forward[\"A\"+str(i)],drop[\"d\"+str(i)])\r\n",
        "    forward[\"A\"+str(i)] = forward[\"A\"+str(i)] / keep_prob[i]\r\n",
        "    \r\n",
        "  forward[\"Z\"+str(l-1)]=np.dot(parameters[\"W\"+str(l-1)],forward[\"A\"+str(l-2)])+parameters[\"b\"+str(l-1)]\r\n",
        "  forward[\"A\"+str(l-1)]=sigmoid(forward[\"Z\"+str(l-1)])\r\n",
        "  \r\n",
        "  return forward"
      ],
      "execution_count": 36,
      "outputs": []
    },
    {
      "cell_type": "code",
      "metadata": {
        "id": "wcL0knro0bjS"
      },
      "source": [
        "def back_prop(X,Y,forward,layer,parameters,lambd=0.6):\r\n",
        "  m = X.shape[1]\r\n",
        "  l = len(layer)\r\n",
        "  grads = {}\r\n",
        "  \r\n",
        "  grads[\"dz\"+str(l-1)]= forward[\"A\"+str(l-1)] - Y\r\n",
        "  grads[\"dw\"+str(l-1)]=(np.dot(grads[\"dz\"+str(l-1)],forward[\"A\"+str(l-2)].T) / m) + ((lambd/m)*parameters[\"W\"+str(l-1)])\r\n",
        "  grads[\"db\"+str(l-1)]=np.sum(grads[\"dz\"+str(l-1)],axis=1,keepdims=True) / m \r\n",
        "  grads[\"da\"+str(l-2)]=np.dot(parameters[\"W\"+str(l-1)].T,grads[\"dz\"+str(l-1)])\r\n",
        "  \r\n",
        "  for i in range(l-2,1,-1):\r\n",
        "    grads[\"dz\"+str(i)]=grads[\"da\"+str(i)]*reluderivative(forward[\"A\"+str(i)])\r\n",
        "    grads[\"dw\"+str(i)]=(np.dot(grads[\"dz\"+str(i)],forward[\"A\"+str(i-1)].T) / m) + ((lambd/m)*parameters[\"W\"+str(i)])\r\n",
        "    grads[\"db\"+str(i)]=np.sum(grads[\"dz\"+str(i)],axis=1,keepdims=True)/m\r\n",
        "    grads[\"da\"+str(i-1)]=np.dot(parameters[\"W\"+str(i)].T,grads[\"dz\"+str(i)])\r\n",
        "  \r\n",
        "  grads[\"dz\"+str(1)]=grads[\"da\"+str(1)]*reluderivative(forward[\"A\"+str(1)])\r\n",
        "  grads[\"dw\"+str(1)]=np.dot(grads[\"dz\"+str(1)],X.T)/m + ((lambd/m)*parameters[\"W\"+str(1)])\r\n",
        "\r\n",
        "  grads[\"db\"+str(1)]=np.sum(grads[\"dz\"+str(1)],axis=1,keepdims=True)/m\r\n",
        "    \r\n",
        "  return grads"
      ],
      "execution_count": 37,
      "outputs": []
    },
    {
      "cell_type": "code",
      "metadata": {
        "id": "ZynvrDhI0fEt"
      },
      "source": [
        "def optimise(parameters,grads,layer,learning_rate=0.01):\r\n",
        "  l= len(layer)\r\n",
        "  \r\n",
        "  for i in range(1,l):\r\n",
        "    parameters[\"W\"+str(i)]=parameters[\"W\"+str(i)] - (learning_rate * grads[\"dw\"+str(i)])\r\n",
        "    parameters[\"b\"+str(i)]=parameters[\"b\"+str(i)] - (learning_rate * grads[\"db\"+str(i)])\r\n",
        "  \r\n",
        "  return parameters"
      ],
      "execution_count": 38,
      "outputs": []
    },
    {
      "cell_type": "code",
      "metadata": {
        "id": "0TXb7tK20hmg"
      },
      "source": [
        "def update_parameters_with_adam(parameters, grads, layer, v, s, t, learning_rate = 0.01, beta1 = 0.9, beta2 = 0.999,  epsilon = 1e-8):\r\n",
        "    \r\n",
        "    \r\n",
        "    L = len(parameters) // 2                 # number of layers in the neural networks\r\n",
        "    v_corrected = {}                         # Initializing first moment estimate, python dictionary\r\n",
        "    s_corrected = {}                         # Initializing second moment estimate, python dictionary\r\n",
        "    \r\n",
        "    \r\n",
        "    for l in range(L-1):\r\n",
        "       \r\n",
        "        v[\"dW\" + str(l+1)] = beta1 * v['dW' + str(l+1)] + (1-beta1) * grads['dw' + str(l+1)]\r\n",
        "        v[\"db\" + str(l+1)] = beta1 * v['db' + str(l+1)] + (1-beta1) * grads['db' + str(l+1)]\r\n",
        "       \r\n",
        "        v_corrected[\"dw\" + str(l+1)] = v['dW' + str(l+1)] / (1 - np.power(beta1, t))\r\n",
        "        v_corrected[\"db\" + str(l+1)] = v['db' + str(l+1)] / (1 - np.power(beta1, t))\r\n",
        "       \r\n",
        "\r\n",
        "        s[\"dW\" + str(l+1)] = beta2 * s['dW' + str(l+1)] + (1-beta2) * np.power(grads['dw' + str(l+1)], 2)\r\n",
        "        s[\"db\" + str(l+1)] = beta2 * s['db' + str(l+1)] + (1-beta2) * np.power(grads['db' + str(l+1)], 2)\r\n",
        "        \r\n",
        "        s_corrected[\"dw\" + str(l+1)] = s['dW' + str(l+1)] / (1 - np.power(beta2, t))\r\n",
        "        s_corrected[\"db\" + str(l+1)] = s['db' + str(l+1)] / (1 - np.power(beta2, t))\r\n",
        "       \r\n",
        "        parameters[\"W\" + str(l+1)] = parameters['W' + str(l+1)] - learning_rate * v_corrected['dw' + str(l+1)] / np.sqrt(s_corrected['dw' + str(l+1)] + epsilon)\r\n",
        "        parameters[\"b\" + str(l+1)] = parameters['b' + str(l+1)] - learning_rate * v_corrected['db' + str(l+1)] / np.sqrt(s_corrected['db' + str(l+1)] + epsilon)\r\n",
        "       \r\n",
        "    return parameters, v, s"
      ],
      "execution_count": 39,
      "outputs": []
    },
    {
      "cell_type": "code",
      "metadata": {
        "id": "E3URCNQI0km3"
      },
      "source": [
        "def predict(X,parameters,layers):\r\n",
        "  l= len(layer)\r\n",
        "  fwd = fwd_propagation(X,parameters,layers)\r\n",
        "  \r\n",
        "  Y1 = fwd[\"A\"+str(l-1)]\r\n",
        "  Y1 = np.around(Y1)\r\n",
        "  \r\n",
        "  return Y1"
      ],
      "execution_count": 40,
      "outputs": []
    },
    {
      "cell_type": "code",
      "metadata": {
        "id": "s6OwCAX90m99"
      },
      "source": [
        "def calculate_cost(Y,forward,parameters,layer,lambd=0.6):\r\n",
        "  l= len(layer)\r\n",
        "  m=Y.shape[1]\r\n",
        "  \r\n",
        "  cost = (-1 * np.sum((Y * np.log(forward[\"A\"+str(l-1)])) + (1 - Y) * np.log(1 - forward[\"A\"+str(l-1)])) / m) + ((lambd/(2*m))*np.sum(np.square(parameters[\"W\"+str(l-1)])))\r\n",
        "  \r\n",
        "  return cost"
      ],
      "execution_count": 41,
      "outputs": []
    },
    {
      "cell_type": "code",
      "metadata": {
        "id": "9CnAPt7j0pR5"
      },
      "source": [
        "def model(X_train,Y_train, X_test, Y_test, layer, keep_prob,mini_batch_size=512, beta1=0.0, beta2=0.0, learning_rate=0.001, iterations = 1500, lambd=0.6):\r\n",
        "  costs = []\r\n",
        "  \r\n",
        "  parameters = initialize(layer)\r\n",
        "  v, s = initialize_adam(parameters,layer)\r\n",
        "  t = 0\r\n",
        "  \r\n",
        "  for j in range(iterations):\r\n",
        "  \r\n",
        "    minibatches = random_mini_batches(X_train,Y_train,mini_batch_size)\r\n",
        "    \r\n",
        "    for minibatch in minibatches:\r\n",
        "      (minibatch_x,minibatch_y) = minibatch\r\n",
        "      \r\n",
        "      forward = fwd_propagation_drop(minibatch_x,parameters,layer,keep_prob)\r\n",
        "      \r\n",
        "      cost = calculate_cost(minibatch_y,forward,parameters,layer,lambd)\r\n",
        "      grads = back_prop(minibatch_x,minibatch_y,forward,layer,parameters,lambd)\r\n",
        "      t=t+1\r\n",
        "      parameters,v,s = update_parameters_with_adam(parameters, grads, layer, v, s, t, learning_rate,beta1, beta2)\r\n",
        "    \r\n",
        "    \r\n",
        "    if j % 10 == 0:\r\n",
        "      costs.append(cost)\r\n",
        "    \r\n",
        "    if j%50 == 0:\r\n",
        "      print (\"Cost after iteration %i: %f\" %(j , cost))\r\n",
        "    #if j == 100:\r\n",
        "      #par = parameters[:]\r\n",
        "      \r\n",
        "  Y_prediction_train = predict(X_train,parameters,layer)\r\n",
        "  Y_prediction_test = predict(X_test,parameters,layer)\r\n",
        "\r\n",
        "  abb = np.mean(np.abs(Y_prediction_train - Y_train)) * 100\r\n",
        "  abc = np.mean(np.abs(Y_prediction_test - Y_test)) * 100\r\n",
        "  print(\"train accuracy: {} %\".format(100 - abb))\r\n",
        "  print(\"test accuracy: {} %\".format(100 - abc))\r\n",
        "  \r\n",
        "  return parameters, grads, forward, costs, Y_prediction_test, Y_prediction_train"
      ],
      "execution_count": 42,
      "outputs": []
    },
    {
      "cell_type": "code",
      "metadata": {
        "colab": {
          "base_uri": "https://localhost:8080/"
        },
        "id": "K-bZcl-30s-8",
        "outputId": "bf9cb4d3-d531-4399-d481-d66ee0466ddb"
      },
      "source": [
        "layer = [70,15,12,6,1]\r\n",
        "keep_prob = [1.0,1.0,1.0,1.0,1.0]\r\n",
        "para,grd,ford,cst,test,train1 = model(trainx, y_trainf, testx, y_testf, layer, keep_prob, mini_batch_size=128, beta1=0.9, beta2=0.999, learning_rate = 0.001, iterations = 620, lambd = 0.0 )"
      ],
      "execution_count": 43,
      "outputs": [
        {
          "output_type": "stream",
          "text": [
            "Cost after iteration 0: 0.541315\n"
          ],
          "name": "stdout"
        },
        {
          "output_type": "stream",
          "text": [
            "/usr/local/lib/python3.6/dist-packages/ipykernel_launcher.py:2: RuntimeWarning: overflow encountered in exp\n",
            "  \n",
            "/usr/local/lib/python3.6/dist-packages/ipykernel_launcher.py:5: RuntimeWarning: divide by zero encountered in log\n",
            "  \"\"\"\n",
            "/usr/local/lib/python3.6/dist-packages/ipykernel_launcher.py:5: RuntimeWarning: invalid value encountered in multiply\n",
            "  \"\"\"\n"
          ],
          "name": "stderr"
        },
        {
          "output_type": "stream",
          "text": [
            "Cost after iteration 50: 0.038811\n",
            "Cost after iteration 100: 0.005443\n",
            "Cost after iteration 150: 0.136275\n",
            "Cost after iteration 200: 0.268307\n",
            "Cost after iteration 250: 0.306973\n",
            "Cost after iteration 300: 0.349003\n",
            "Cost after iteration 350: 0.113325\n",
            "Cost after iteration 400: 0.366701\n",
            "Cost after iteration 450: 0.032505\n",
            "Cost after iteration 500: 0.120940\n",
            "Cost after iteration 550: 0.086108\n",
            "Cost after iteration 600: 0.103366\n",
            "train accuracy: 95.73898521538386 %\n",
            "test accuracy: 95.16 %\n"
          ],
          "name": "stdout"
        }
      ]
    },
    {
      "cell_type": "code",
      "metadata": {
        "colab": {
          "base_uri": "https://localhost:8080/"
        },
        "id": "dg1B3O_-04RL",
        "outputId": "7e5738eb-a49f-4121-fce4-569d585eec7f"
      },
      "source": [
        "a = np.zeros((1,5000))\r\n",
        "a1 = np.zeros((1,5000))\r\n",
        "a2 = np.zeros((1,5000))\r\n",
        "a3 = np.zeros((1,5000))\r\n",
        "a = test - y_testf\r\n",
        "a1 = np.copy(a)\r\n",
        "a2 = np.copy(a)\r\n",
        "a1[a1==-1]=0\r\n",
        "a[a==1]=0\r\n",
        "fp = np.sum(a1)\r\n",
        "fn = np.sum(a)\r\n",
        "fn = -1 * fn\r\n",
        "a2[a2==-1]=1\r\n",
        "corr = 5000-np.sum(a2)\r\n",
        "\r\n",
        "exam3 = test * y_testf\r\n",
        "\r\n",
        "tp = np.sum(a3)\r\n",
        "tn = corr-tp\r\n",
        "print(\"fp=\"+ str(fp))\r\n",
        "print(\"fn=\"+ str(fn))\r\n",
        "print(\"correct=\"+ str(corr))\r\n",
        "print(\"tp=\"+ str(tp))\r\n",
        "print(\"tn=\"+ str(tn))"
      ],
      "execution_count": 44,
      "outputs": [
        {
          "output_type": "stream",
          "text": [
            "fp=115.0\n",
            "fn=127.0\n",
            "correct=4758.0\n",
            "tp=217.0\n",
            "tn=4541.0\n"
          ],
          "name": "stdout"
        }
      ]
    },
    {
      "cell_type": "code",
      "metadata": {
        "colab": {
          "base_uri": "https://localhost:8080/"
        },
        "id": "n7fxHiGL2gty",
        "outputId": "65d4d6fb-9c29-4341-f961-e633208d02e8"
      },
      "source": [
        "n = tn+tp+fn+fp\r\n",
        "s = (tp+fn)/n\r\n",
        "p = (tp+fp)/n\r\n",
        "\r\n",
        "mcc = ((tp/n) - (s*p))/np.sqrt(p*s*(1-s)*(1-p))\r\n",
        "mcc1 = ((tp*tn)-(fp*fn))/np.sqrt((tp+fp)*(tp+fn)*(tn+fp)*(tn+fn))\r\n",
        "print(\"MCC score=\"+ str(mcc1))"
      ],
      "execution_count": 45,
      "outputs": [
        {
          "output_type": "stream",
          "text": [
            "MCC score=0.6161777558526986\n"
          ],
          "name": "stdout"
        }
      ]
    },
    {
      "cell_type": "code",
      "metadata": {
        "colab": {
          "base_uri": "https://localhost:8080/",
          "height": 295
        },
        "id": "i2wGouyh2mB1",
        "outputId": "9fbdd2e2-3c39-4d3f-d3d6-55a657c6105e"
      },
      "source": [
        "costs = np.squeeze(cst)\r\n",
        "plt.plot(costs)\r\n",
        "plt.ylabel('cost')\r\n",
        "plt.xlabel('iterations (per hundreds)')\r\n",
        "plt.title(\"Learning rate =\" + str(0.01))\r\n",
        "plt.show()"
      ],
      "execution_count": 46,
      "outputs": [
        {
          "output_type": "display_data",
          "data": {
            "image/png": "[encoded data removed]",
            "text/plain": [
              "<Figure size 432x288 with 1 Axes>"
            ]
          },
          "metadata": {
            "tags": [],
            "needs_background": "light"
          }
        }
      ]
    },
    {
      "cell_type": "code",
      "metadata": {
        "colab": {
          "base_uri": "https://localhost:8080/"
        },
        "id": "tGtwfYhI2pQn",
        "outputId": "537f459d-15cf-4fe6-8900-1178c01355e4"
      },
      "source": [
        "test = pd.read_csv(\"criminal_test.csv\")\r\n",
        "print(test)"
      ],
      "execution_count": 47,
      "outputs": [
        {
          "output_type": "stream",
          "text": [
            "       IFATHER  NRCH17_2  IRHHSIZ2  ...     ANALWT_C  VESTR  VEREP\n",
            "0            4         0         3  ...  1448.823373  40039      2\n",
            "1            1         0         6  ...   444.628255  40037      2\n",
            "2            4         0         1  ...  2109.523374  40030      1\n",
            "3            4         0         4  ...  1861.925999  40003      2\n",
            "4            4         0         2  ...  5712.632091  40016      1\n",
            "...        ...       ...       ...  ...          ...    ...    ...\n",
            "11425        4         3         6  ...  2827.445484  40011      2\n",
            "11426        4         0         4  ...  5194.522223  40020      2\n",
            "11427        4         2         4  ...  2864.879952  40020      1\n",
            "11428        4         2         4  ...   502.923133  40017      1\n",
            "11429        2         0         5  ...   224.402498  40007      2\n",
            "\n",
            "[11430 rows x 70 columns]\n"
          ],
          "name": "stdout"
        }
      ]
    },
    {
      "cell_type": "code",
      "metadata": {
        "id": "ATWXwe3b2uWS"
      },
      "source": [
        "testf = np.zeros((11430,70))\r\n",
        "testf[:] = test[:]"
      ],
      "execution_count": 48,
      "outputs": []
    },
    {
      "cell_type": "code",
      "metadata": {
        "colab": {
          "base_uri": "https://localhost:8080/"
        },
        "id": "jVqLxlBQ27F2",
        "outputId": "f0d8ae11-d9be-4588-9d24-e347ea9b4e4d"
      },
      "source": [
        "testnew = np.zeros((70,11430))\r\n",
        "testnew = np.transpose(testf)\r\n",
        "testnew = testnew - utrain\r\n",
        "testnew = testnew / n\r\n",
        "print(testnew)\r\n",
        "print(str(testnew.shape))"
      ],
      "execution_count": 50,
      "outputs": [
        {
          "output_type": "stream",
          "text": [
            "[[ 1.29323641e-04 -4.70676359e-04  1.29323641e-04 ...  1.29323641e-04\n",
            "   1.29323641e-04 -2.70676359e-04]\n",
            " [-9.46706616e-05 -9.46706616e-05 -9.46706616e-05 ...  3.05329338e-04\n",
            "   3.05329338e-04 -9.46706616e-05]\n",
            " [-8.50434697e-05  5.14956530e-04 -4.85043470e-04 ...  1.14956530e-04\n",
            "   1.14956530e-04  3.14956530e-04]\n",
            " ...\n",
            " [-6.47269554e-01 -8.48108577e-01 -5.15129554e-01 ... -3.64058238e-01\n",
            "  -8.36449602e-01 -8.92153729e-01]\n",
            " [ 3.09473452e-03  2.69473452e-03  1.29473452e-03 ... -7.05265485e-04\n",
            "  -1.30526548e-03 -3.30526548e-03]\n",
            " [ 1.01041309e-04  1.01041309e-04 -9.89586915e-05 ... -9.89586915e-05\n",
            "  -9.89586915e-05  1.01041309e-04]]\n",
            "(70, 11430)\n"
          ],
          "name": "stdout"
        }
      ]
    },
    {
      "cell_type": "code",
      "metadata": {
        "id": "_mg0meU_3DzK"
      },
      "source": [
        "output=predict(testnew,para,layer)"
      ],
      "execution_count": 51,
      "outputs": []
    },
    {
      "cell_type": "code",
      "metadata": {
        "colab": {
          "base_uri": "https://localhost:8080/"
        },
        "id": "r41EjScF3PN5",
        "outputId": "b6cc60b2-5935-491b-ae57-0263a0f00661"
      },
      "source": [
        "output.shape"
      ],
      "execution_count": 52,
      "outputs": [
        {
          "output_type": "execute_result",
          "data": {
            "text/plain": [
              "(1, 11430)"
            ]
          },
          "metadata": {
            "tags": []
          },
          "execution_count": 52
        }
      ]
    },
    {
      "cell_type": "code",
      "metadata": {
        "colab": {
          "base_uri": "https://localhost:8080/"
        },
        "id": "iaS7OOCT3RKV",
        "outputId": "8e5e7f69-f42f-4157-a3b3-bbf4b2f07ae0"
      },
      "source": [
        "output"
      ],
      "execution_count": 53,
      "outputs": [
        {
          "output_type": "execute_result",
          "data": {
            "text/plain": [
              "array([[0., 0., 0., ..., 0., 0., 0.]])"
            ]
          },
          "metadata": {
            "tags": []
          },
          "execution_count": 53
        }
      ]
    },
    {
      "cell_type": "code",
      "metadata": {
        "colab": {
          "base_uri": "https://localhost:8080/",
          "height": 17
        },
        "id": "tkCoI2sO3RuS",
        "outputId": "72a9766a-40c6-4f20-b8d4-bfd0a225c4d5"
      },
      "source": [
        "from google.colab import files\r\n",
        "with open('output.csv', 'w') as f:\r\n",
        "  np.savetxt('output.csv',test.T,fmt='%.1f',delimiter=',',newline='\\n')\r\n",
        "files.download('output.csv')"
      ],
      "execution_count": 55,
      "outputs": [
        {
          "output_type": "display_data",
          "data": {
            "application/javascript": [
              "\n",
              "    async function download(id, filename, size) {\n",
              "      if (!google.colab.kernel.accessAllowed) {\n",
              "        return;\n",
              "      }\n",
              "      const div = document.createElement('div');\n",
              "      const label = document.createElement('label');\n",
              "      label.textContent = `Downloading \"${filename}\": `;\n",
              "      div.appendChild(label);\n",
              "      const progress = document.createElement('progress');\n",
              "      progress.max = size;\n",
              "      div.appendChild(progress);\n",
              "      document.body.appendChild(div);\n",
              "\n",
              "      const buffers = [];\n",
              "      let downloaded = 0;\n",
              "\n",
              "      const channel = await google.colab.kernel.comms.open(id);\n",
              "      // Send a message to notify the kernel that we're ready.\n",
              "      channel.send({})\n",
              "\n",
              "      for await (const message of channel.messages) {\n",
              "        // Send a message to notify the kernel that we're ready.\n",
              "        channel.send({})\n",
              "        if (message.buffers) {\n",
              "          for (const buffer of message.buffers) {\n",
              "            buffers.push(buffer);\n",
              "            downloaded += buffer.byteLength;\n",
              "            progress.value = downloaded;\n",
              "          }\n",
              "        }\n",
              "      }\n",
              "      const blob = new Blob(buffers, {type: 'application/binary'});\n",
              "      const a = document.createElement('a');\n",
              "      a.href = window.URL.createObjectURL(blob);\n",
              "      a.download = filename;\n",
              "      div.appendChild(a);\n",
              "      a.click();\n",
              "      div.remove();\n",
              "    }\n",
              "  "
            ],
            "text/plain": [
              "<IPython.core.display.Javascript object>"
            ]
          },
          "metadata": {
            "tags": []
          }
        },
        {
          "output_type": "display_data",
          "data": {
            "application/javascript": [
              "download(\"download_0fa21ffa-dcef-48ba-8306-b6e6894f1dd6\", \"output.csv\", 3446505)"
            ],
            "text/plain": [
              "<IPython.core.display.Javascript object>"
            ]
          },
          "metadata": {
            "tags": []
          }
        }
      ]
    },
    {
      "cell_type": "code",
      "metadata": {
        "id": "EgFXLqEW3c4H"
      },
      "source": [
        ""
      ],
      "execution_count": null,
      "outputs": []
    }
  ]
}